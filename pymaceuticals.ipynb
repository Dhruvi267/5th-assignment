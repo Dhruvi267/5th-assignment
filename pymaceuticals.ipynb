{
 "cells": [
  {
   "cell_type": "markdown",
   "metadata": {},
   "source": [
    "# Pymaceuticals Inc.\n",
    "---\n",
    "\n",
    "### Analysis\n",
    "\n",
    "- **Capomulin and Ramicane See Largest Tumor Decrease:** For all drug treatment protocols, Capomulin and Ramicane saw the largest tumor decrease, which suggests that these may be extremely effective treatments.\n",
    "- **Final Tumor Volume is Directly Correlated with Mouse Weight:** Statistical analysis determined a direct relationship between mouse weight and final tumor volume, and heavier mice having larger tumors.\n",
    "- **More Frequency of Effective Regimens Monitoring:** The bar chart comparison revealed that Ramicane and Capomulin were monitored more frequently, attesting to their importance in the study.\n",
    "- **Fewer Outliers for Capomulin and Ramicane Regimens:** The box plots ensured that these treatment regimens yielded consistent reductions in the tumor with fewer outlier values compared to the others.\n",
    "- **Regression Analysis Confirms Tumor Growth Trends:** Linear regression modeling supported the correlation of weight and tumor volume, supporting targeted therapy approaches. \n",
    "\n",
    "### Conclusion\n",
    "Capomulin and Ramicane were the most effective SCC treatments, with consistent tumor reduction. The findings recommend future testing to validate their effectiveness on larger applications. Further research on weight-based tumor growth can result in improved individualization of treatment.\n",
    "\n",
    "\n",
    " "
   ]
  },
  {
   "cell_type": "code",
   "execution_count": 14,
   "metadata": {},
   "outputs": [
    {
     "data": {
      "application/vnd.microsoft.datawrangler.viewer.v0+json": {
       "columns": [
        {
         "name": "index",
         "rawType": "int64",
         "type": "integer"
        },
        {
         "name": "Mouse ID",
         "rawType": "object",
         "type": "string"
        },
        {
         "name": "Drug Regimen",
         "rawType": "object",
         "type": "string"
        },
        {
         "name": "Sex",
         "rawType": "object",
         "type": "string"
        },
        {
         "name": "Age_months",
         "rawType": "int64",
         "type": "integer"
        },
        {
         "name": "Weight (g)",
         "rawType": "int64",
         "type": "integer"
        },
        {
         "name": "Timepoint",
         "rawType": "int64",
         "type": "integer"
        },
        {
         "name": "Tumor Volume (mm3)",
         "rawType": "float64",
         "type": "float"
        },
        {
         "name": "Metastatic Sites",
         "rawType": "int64",
         "type": "integer"
        }
       ],
       "conversionMethod": "pd.DataFrame",
       "ref": "7f5037d7-fbf6-424c-a5dc-eda04e795aa1",
       "rows": [
        [
         "0",
         "k403",
         "Ramicane",
         "Male",
         "21",
         "16",
         "0",
         "45.0",
         "0"
        ],
        [
         "1",
         "k403",
         "Ramicane",
         "Male",
         "21",
         "16",
         "5",
         "38.82589807",
         "0"
        ],
        [
         "2",
         "k403",
         "Ramicane",
         "Male",
         "21",
         "16",
         "10",
         "35.01427146",
         "1"
        ],
        [
         "3",
         "k403",
         "Ramicane",
         "Male",
         "21",
         "16",
         "15",
         "34.22399174",
         "1"
        ],
        [
         "4",
         "k403",
         "Ramicane",
         "Male",
         "21",
         "16",
         "20",
         "32.99772858",
         "1"
        ]
       ],
       "shape": {
        "columns": 8,
        "rows": 5
       }
      },
      "text/html": [
       "<div>\n",
       "<style scoped>\n",
       "    .dataframe tbody tr th:only-of-type {\n",
       "        vertical-align: middle;\n",
       "    }\n",
       "\n",
       "    .dataframe tbody tr th {\n",
       "        vertical-align: top;\n",
       "    }\n",
       "\n",
       "    .dataframe thead th {\n",
       "        text-align: right;\n",
       "    }\n",
       "</style>\n",
       "<table border=\"1\" class=\"dataframe\">\n",
       "  <thead>\n",
       "    <tr style=\"text-align: right;\">\n",
       "      <th></th>\n",
       "      <th>Mouse ID</th>\n",
       "      <th>Drug Regimen</th>\n",
       "      <th>Sex</th>\n",
       "      <th>Age_months</th>\n",
       "      <th>Weight (g)</th>\n",
       "      <th>Timepoint</th>\n",
       "      <th>Tumor Volume (mm3)</th>\n",
       "      <th>Metastatic Sites</th>\n",
       "    </tr>\n",
       "  </thead>\n",
       "  <tbody>\n",
       "    <tr>\n",
       "      <th>0</th>\n",
       "      <td>k403</td>\n",
       "      <td>Ramicane</td>\n",
       "      <td>Male</td>\n",
       "      <td>21</td>\n",
       "      <td>16</td>\n",
       "      <td>0</td>\n",
       "      <td>45.000000</td>\n",
       "      <td>0</td>\n",
       "    </tr>\n",
       "    <tr>\n",
       "      <th>1</th>\n",
       "      <td>k403</td>\n",
       "      <td>Ramicane</td>\n",
       "      <td>Male</td>\n",
       "      <td>21</td>\n",
       "      <td>16</td>\n",
       "      <td>5</td>\n",
       "      <td>38.825898</td>\n",
       "      <td>0</td>\n",
       "    </tr>\n",
       "    <tr>\n",
       "      <th>2</th>\n",
       "      <td>k403</td>\n",
       "      <td>Ramicane</td>\n",
       "      <td>Male</td>\n",
       "      <td>21</td>\n",
       "      <td>16</td>\n",
       "      <td>10</td>\n",
       "      <td>35.014271</td>\n",
       "      <td>1</td>\n",
       "    </tr>\n",
       "    <tr>\n",
       "      <th>3</th>\n",
       "      <td>k403</td>\n",
       "      <td>Ramicane</td>\n",
       "      <td>Male</td>\n",
       "      <td>21</td>\n",
       "      <td>16</td>\n",
       "      <td>15</td>\n",
       "      <td>34.223992</td>\n",
       "      <td>1</td>\n",
       "    </tr>\n",
       "    <tr>\n",
       "      <th>4</th>\n",
       "      <td>k403</td>\n",
       "      <td>Ramicane</td>\n",
       "      <td>Male</td>\n",
       "      <td>21</td>\n",
       "      <td>16</td>\n",
       "      <td>20</td>\n",
       "      <td>32.997729</td>\n",
       "      <td>1</td>\n",
       "    </tr>\n",
       "  </tbody>\n",
       "</table>\n",
       "</div>"
      ],
      "text/plain": [
       "  Mouse ID Drug Regimen   Sex  Age_months  Weight (g)  Timepoint  \\\n",
       "0     k403     Ramicane  Male          21          16          0   \n",
       "1     k403     Ramicane  Male          21          16          5   \n",
       "2     k403     Ramicane  Male          21          16         10   \n",
       "3     k403     Ramicane  Male          21          16         15   \n",
       "4     k403     Ramicane  Male          21          16         20   \n",
       "\n",
       "   Tumor Volume (mm3)  Metastatic Sites  \n",
       "0           45.000000                 0  \n",
       "1           38.825898                 0  \n",
       "2           35.014271                 1  \n",
       "3           34.223992                 1  \n",
       "4           32.997729                 1  "
      ]
     },
     "execution_count": 14,
     "metadata": {},
     "output_type": "execute_result"
    }
   ],
   "source": [
    "# Dependencies and Setup\n",
    "import matplotlib.pyplot as plt\n",
    "import pandas as pd\n",
    "import scipy.stats as st\n",
    "\n",
    "# Study data files\n",
    "mouse_metadata_path = \"data/Mouse_metadata.csv\"\n",
    "study_results_path = \"data/Study_results.csv\"\n",
    "\n",
    "# Read the mouse data and the study results\n",
    "mouse_metadata = pd.read_csv(mouse_metadata_path)\n",
    "study_results = pd.read_csv(study_results_path)\n",
    "\n",
    "# Combine the data into a single DataFrame\n",
    "mouse_data = pd.merge(mouse_metadata, study_results, on=\"Mouse ID\")\n",
    "\n",
    "# Display the data table for preview\n",
    "mouse_data.head()"
   ]
  },
  {
   "cell_type": "code",
   "execution_count": 15,
   "metadata": {},
   "outputs": [
    {
     "data": {
      "text/plain": [
       "249"
      ]
     },
     "execution_count": 15,
     "metadata": {},
     "output_type": "execute_result"
    }
   ],
   "source": [
    "# Checking the number of mice.\n",
    "mouse_count = mouse_data[\"Mouse ID\"].nunique()\n",
    "mouse_count"
   ]
  },
  {
   "cell_type": "code",
   "execution_count": 20,
   "metadata": {},
   "outputs": [
    {
     "name": "stdout",
     "output_type": "stream",
     "text": [
      "Mouse ID of duplicate mice: ['g989']\n"
     ]
    }
   ],
   "source": [
    "# Our data should be uniquely identified by Mouse ID and Timepoint\n",
    "# Get the duplicate mice by ID number that shows up for Mouse ID and Timepoint.\n",
    "duplicate_mice = mouse_data.loc[mouse_data.duplicated(subset=[\"Mouse ID\", \"Timepoint\"]), 'Mouse ID'].unique()\n",
    "print (f\"Mouse ID of duplicate mice: {duplicate_mice}\")"
   ]
  },
  {
   "cell_type": "code",
   "execution_count": 21,
   "metadata": {},
   "outputs": [
    {
     "data": {
      "application/vnd.microsoft.datawrangler.viewer.v0+json": {
       "columns": [
        {
         "name": "index",
         "rawType": "int64",
         "type": "integer"
        },
        {
         "name": "Mouse ID",
         "rawType": "object",
         "type": "string"
        },
        {
         "name": "Drug Regimen",
         "rawType": "object",
         "type": "string"
        },
        {
         "name": "Sex",
         "rawType": "object",
         "type": "string"
        },
        {
         "name": "Age_months",
         "rawType": "int64",
         "type": "integer"
        },
        {
         "name": "Weight (g)",
         "rawType": "int64",
         "type": "integer"
        },
        {
         "name": "Timepoint",
         "rawType": "int64",
         "type": "integer"
        },
        {
         "name": "Tumor Volume (mm3)",
         "rawType": "float64",
         "type": "float"
        },
        {
         "name": "Metastatic Sites",
         "rawType": "int64",
         "type": "integer"
        }
       ],
       "conversionMethod": "pd.DataFrame",
       "ref": "54ec0b5f-6ad8-48d4-b2b5-cf5fe1c27705",
       "rows": [
        [
         "908",
         "g989",
         "Propriva",
         "Female",
         "21",
         "26",
         "0",
         "45.0",
         "0"
        ],
        [
         "909",
         "g989",
         "Propriva",
         "Female",
         "21",
         "26",
         "0",
         "45.0",
         "0"
        ],
        [
         "910",
         "g989",
         "Propriva",
         "Female",
         "21",
         "26",
         "5",
         "48.78680146",
         "0"
        ],
        [
         "911",
         "g989",
         "Propriva",
         "Female",
         "21",
         "26",
         "5",
         "47.57039208",
         "0"
        ],
        [
         "912",
         "g989",
         "Propriva",
         "Female",
         "21",
         "26",
         "10",
         "51.74515613",
         "0"
        ],
        [
         "913",
         "g989",
         "Propriva",
         "Female",
         "21",
         "26",
         "10",
         "49.8805278",
         "0"
        ],
        [
         "914",
         "g989",
         "Propriva",
         "Female",
         "21",
         "26",
         "15",
         "51.32585207",
         "1"
        ],
        [
         "915",
         "g989",
         "Propriva",
         "Female",
         "21",
         "26",
         "15",
         "53.44201976",
         "0"
        ],
        [
         "916",
         "g989",
         "Propriva",
         "Female",
         "21",
         "26",
         "20",
         "55.32612202",
         "1"
        ],
        [
         "917",
         "g989",
         "Propriva",
         "Female",
         "21",
         "26",
         "20",
         "54.65765008",
         "1"
        ]
       ],
       "shape": {
        "columns": 8,
        "rows": 10
       }
      },
      "text/html": [
       "<div>\n",
       "<style scoped>\n",
       "    .dataframe tbody tr th:only-of-type {\n",
       "        vertical-align: middle;\n",
       "    }\n",
       "\n",
       "    .dataframe tbody tr th {\n",
       "        vertical-align: top;\n",
       "    }\n",
       "\n",
       "    .dataframe thead th {\n",
       "        text-align: right;\n",
       "    }\n",
       "</style>\n",
       "<table border=\"1\" class=\"dataframe\">\n",
       "  <thead>\n",
       "    <tr style=\"text-align: right;\">\n",
       "      <th></th>\n",
       "      <th>Mouse ID</th>\n",
       "      <th>Drug Regimen</th>\n",
       "      <th>Sex</th>\n",
       "      <th>Age_months</th>\n",
       "      <th>Weight (g)</th>\n",
       "      <th>Timepoint</th>\n",
       "      <th>Tumor Volume (mm3)</th>\n",
       "      <th>Metastatic Sites</th>\n",
       "    </tr>\n",
       "  </thead>\n",
       "  <tbody>\n",
       "    <tr>\n",
       "      <th>908</th>\n",
       "      <td>g989</td>\n",
       "      <td>Propriva</td>\n",
       "      <td>Female</td>\n",
       "      <td>21</td>\n",
       "      <td>26</td>\n",
       "      <td>0</td>\n",
       "      <td>45.000000</td>\n",
       "      <td>0</td>\n",
       "    </tr>\n",
       "    <tr>\n",
       "      <th>909</th>\n",
       "      <td>g989</td>\n",
       "      <td>Propriva</td>\n",
       "      <td>Female</td>\n",
       "      <td>21</td>\n",
       "      <td>26</td>\n",
       "      <td>0</td>\n",
       "      <td>45.000000</td>\n",
       "      <td>0</td>\n",
       "    </tr>\n",
       "    <tr>\n",
       "      <th>910</th>\n",
       "      <td>g989</td>\n",
       "      <td>Propriva</td>\n",
       "      <td>Female</td>\n",
       "      <td>21</td>\n",
       "      <td>26</td>\n",
       "      <td>5</td>\n",
       "      <td>48.786801</td>\n",
       "      <td>0</td>\n",
       "    </tr>\n",
       "    <tr>\n",
       "      <th>911</th>\n",
       "      <td>g989</td>\n",
       "      <td>Propriva</td>\n",
       "      <td>Female</td>\n",
       "      <td>21</td>\n",
       "      <td>26</td>\n",
       "      <td>5</td>\n",
       "      <td>47.570392</td>\n",
       "      <td>0</td>\n",
       "    </tr>\n",
       "    <tr>\n",
       "      <th>912</th>\n",
       "      <td>g989</td>\n",
       "      <td>Propriva</td>\n",
       "      <td>Female</td>\n",
       "      <td>21</td>\n",
       "      <td>26</td>\n",
       "      <td>10</td>\n",
       "      <td>51.745156</td>\n",
       "      <td>0</td>\n",
       "    </tr>\n",
       "    <tr>\n",
       "      <th>913</th>\n",
       "      <td>g989</td>\n",
       "      <td>Propriva</td>\n",
       "      <td>Female</td>\n",
       "      <td>21</td>\n",
       "      <td>26</td>\n",
       "      <td>10</td>\n",
       "      <td>49.880528</td>\n",
       "      <td>0</td>\n",
       "    </tr>\n",
       "    <tr>\n",
       "      <th>914</th>\n",
       "      <td>g989</td>\n",
       "      <td>Propriva</td>\n",
       "      <td>Female</td>\n",
       "      <td>21</td>\n",
       "      <td>26</td>\n",
       "      <td>15</td>\n",
       "      <td>51.325852</td>\n",
       "      <td>1</td>\n",
       "    </tr>\n",
       "    <tr>\n",
       "      <th>915</th>\n",
       "      <td>g989</td>\n",
       "      <td>Propriva</td>\n",
       "      <td>Female</td>\n",
       "      <td>21</td>\n",
       "      <td>26</td>\n",
       "      <td>15</td>\n",
       "      <td>53.442020</td>\n",
       "      <td>0</td>\n",
       "    </tr>\n",
       "    <tr>\n",
       "      <th>916</th>\n",
       "      <td>g989</td>\n",
       "      <td>Propriva</td>\n",
       "      <td>Female</td>\n",
       "      <td>21</td>\n",
       "      <td>26</td>\n",
       "      <td>20</td>\n",
       "      <td>55.326122</td>\n",
       "      <td>1</td>\n",
       "    </tr>\n",
       "    <tr>\n",
       "      <th>917</th>\n",
       "      <td>g989</td>\n",
       "      <td>Propriva</td>\n",
       "      <td>Female</td>\n",
       "      <td>21</td>\n",
       "      <td>26</td>\n",
       "      <td>20</td>\n",
       "      <td>54.657650</td>\n",
       "      <td>1</td>\n",
       "    </tr>\n",
       "  </tbody>\n",
       "</table>\n",
       "</div>"
      ],
      "text/plain": [
       "    Mouse ID Drug Regimen     Sex  Age_months  Weight (g)  Timepoint  \\\n",
       "908     g989     Propriva  Female          21          26          0   \n",
       "909     g989     Propriva  Female          21          26          0   \n",
       "910     g989     Propriva  Female          21          26          5   \n",
       "911     g989     Propriva  Female          21          26          5   \n",
       "912     g989     Propriva  Female          21          26         10   \n",
       "913     g989     Propriva  Female          21          26         10   \n",
       "914     g989     Propriva  Female          21          26         15   \n",
       "915     g989     Propriva  Female          21          26         15   \n",
       "916     g989     Propriva  Female          21          26         20   \n",
       "917     g989     Propriva  Female          21          26         20   \n",
       "\n",
       "     Tumor Volume (mm3)  Metastatic Sites  \n",
       "908           45.000000                 0  \n",
       "909           45.000000                 0  \n",
       "910           48.786801                 0  \n",
       "911           47.570392                 0  \n",
       "912           51.745156                 0  \n",
       "913           49.880528                 0  \n",
       "914           51.325852                 1  \n",
       "915           53.442020                 0  \n",
       "916           55.326122                 1  \n",
       "917           54.657650                 1  "
      ]
     },
     "execution_count": 21,
     "metadata": {},
     "output_type": "execute_result"
    }
   ],
   "source": [
    "# Optional: Get all the data for the duplicate mouse ID.\n",
    "all_duplicate = mouse_data[mouse_data.duplicated(subset=[\"Mouse ID\", \"Timepoint\"], keep=False)]\n",
    "all_duplicate"
   ]
  },
  {
   "cell_type": "code",
   "execution_count": 26,
   "metadata": {},
   "outputs": [
    {
     "data": {
      "application/vnd.microsoft.datawrangler.viewer.v0+json": {
       "columns": [
        {
         "name": "index",
         "rawType": "int64",
         "type": "integer"
        },
        {
         "name": "Mouse ID",
         "rawType": "object",
         "type": "string"
        },
        {
         "name": "Drug Regimen",
         "rawType": "object",
         "type": "string"
        },
        {
         "name": "Sex",
         "rawType": "object",
         "type": "string"
        },
        {
         "name": "Age_months",
         "rawType": "int64",
         "type": "integer"
        },
        {
         "name": "Weight (g)",
         "rawType": "int64",
         "type": "integer"
        },
        {
         "name": "Timepoint",
         "rawType": "int64",
         "type": "integer"
        },
        {
         "name": "Tumor Volume (mm3)",
         "rawType": "float64",
         "type": "float"
        },
        {
         "name": "Metastatic Sites",
         "rawType": "int64",
         "type": "integer"
        }
       ],
       "conversionMethod": "pd.DataFrame",
       "ref": "27e0a880-c0c7-4f3b-9e7b-3c82d3ecaa6e",
       "rows": [
        [
         "0",
         "k403",
         "Ramicane",
         "Male",
         "21",
         "16",
         "0",
         "45.0",
         "0"
        ],
        [
         "1",
         "k403",
         "Ramicane",
         "Male",
         "21",
         "16",
         "5",
         "38.82589807",
         "0"
        ],
        [
         "2",
         "k403",
         "Ramicane",
         "Male",
         "21",
         "16",
         "10",
         "35.01427146",
         "1"
        ],
        [
         "3",
         "k403",
         "Ramicane",
         "Male",
         "21",
         "16",
         "15",
         "34.22399174",
         "1"
        ],
        [
         "4",
         "k403",
         "Ramicane",
         "Male",
         "21",
         "16",
         "20",
         "32.99772858",
         "1"
        ],
        [
         "5",
         "k403",
         "Ramicane",
         "Male",
         "21",
         "16",
         "25",
         "33.46457735",
         "1"
        ],
        [
         "6",
         "k403",
         "Ramicane",
         "Male",
         "21",
         "16",
         "30",
         "31.09949753",
         "1"
        ],
        [
         "7",
         "k403",
         "Ramicane",
         "Male",
         "21",
         "16",
         "35",
         "26.54699343",
         "1"
        ],
        [
         "8",
         "k403",
         "Ramicane",
         "Male",
         "21",
         "16",
         "40",
         "24.36550471",
         "1"
        ],
        [
         "9",
         "k403",
         "Ramicane",
         "Male",
         "21",
         "16",
         "45",
         "22.05012627",
         "1"
        ],
        [
         "10",
         "s185",
         "Capomulin",
         "Female",
         "3",
         "17",
         "0",
         "45.0",
         "0"
        ],
        [
         "11",
         "s185",
         "Capomulin",
         "Female",
         "3",
         "17",
         "5",
         "43.87849569",
         "0"
        ],
        [
         "12",
         "s185",
         "Capomulin",
         "Female",
         "3",
         "17",
         "10",
         "37.61494768",
         "0"
        ],
        [
         "13",
         "s185",
         "Capomulin",
         "Female",
         "3",
         "17",
         "15",
         "38.17723195",
         "0"
        ],
        [
         "14",
         "s185",
         "Capomulin",
         "Female",
         "3",
         "17",
         "20",
         "36.86687576",
         "0"
        ],
        [
         "15",
         "s185",
         "Capomulin",
         "Female",
         "3",
         "17",
         "25",
         "33.94994037",
         "0"
        ],
        [
         "16",
         "s185",
         "Capomulin",
         "Female",
         "3",
         "17",
         "30",
         "32.95967078",
         "1"
        ],
        [
         "17",
         "s185",
         "Capomulin",
         "Female",
         "3",
         "17",
         "35",
         "28.32853059",
         "1"
        ],
        [
         "18",
         "s185",
         "Capomulin",
         "Female",
         "3",
         "17",
         "40",
         "25.47214326",
         "1"
        ],
        [
         "19",
         "s185",
         "Capomulin",
         "Female",
         "3",
         "17",
         "45",
         "23.34359787",
         "1"
        ],
        [
         "20",
         "x401",
         "Capomulin",
         "Female",
         "16",
         "15",
         "0",
         "45.0",
         "0"
        ],
        [
         "21",
         "x401",
         "Capomulin",
         "Female",
         "16",
         "15",
         "5",
         "45.47375302",
         "0"
        ],
        [
         "22",
         "x401",
         "Capomulin",
         "Female",
         "16",
         "15",
         "10",
         "39.11389068",
         "0"
        ],
        [
         "23",
         "x401",
         "Capomulin",
         "Female",
         "16",
         "15",
         "15",
         "39.77625003",
         "0"
        ],
        [
         "24",
         "x401",
         "Capomulin",
         "Female",
         "16",
         "15",
         "20",
         "36.06583471",
         "0"
        ],
        [
         "25",
         "x401",
         "Capomulin",
         "Female",
         "16",
         "15",
         "25",
         "36.61712031",
         "0"
        ],
        [
         "26",
         "x401",
         "Capomulin",
         "Female",
         "16",
         "15",
         "30",
         "32.91529186",
         "0"
        ],
        [
         "27",
         "x401",
         "Capomulin",
         "Female",
         "16",
         "15",
         "35",
         "30.20682488",
         "0"
        ],
        [
         "28",
         "x401",
         "Capomulin",
         "Female",
         "16",
         "15",
         "40",
         "28.16739732",
         "0"
        ],
        [
         "29",
         "x401",
         "Capomulin",
         "Female",
         "16",
         "15",
         "45",
         "28.48403281",
         "0"
        ],
        [
         "30",
         "m601",
         "Capomulin",
         "Male",
         "22",
         "17",
         "0",
         "45.0",
         "0"
        ],
        [
         "31",
         "m601",
         "Capomulin",
         "Male",
         "22",
         "17",
         "5",
         "41.40859145",
         "1"
        ],
        [
         "32",
         "m601",
         "Capomulin",
         "Male",
         "22",
         "17",
         "10",
         "36.82536664",
         "1"
        ],
        [
         "33",
         "m601",
         "Capomulin",
         "Male",
         "22",
         "17",
         "15",
         "35.46461175",
         "1"
        ],
        [
         "34",
         "m601",
         "Capomulin",
         "Male",
         "22",
         "17",
         "20",
         "34.2557317",
         "1"
        ],
        [
         "35",
         "m601",
         "Capomulin",
         "Male",
         "22",
         "17",
         "25",
         "33.11875607",
         "1"
        ],
        [
         "36",
         "m601",
         "Capomulin",
         "Male",
         "22",
         "17",
         "30",
         "31.75827491",
         "1"
        ],
        [
         "37",
         "m601",
         "Capomulin",
         "Male",
         "22",
         "17",
         "35",
         "30.83435704",
         "1"
        ],
        [
         "38",
         "m601",
         "Capomulin",
         "Male",
         "22",
         "17",
         "40",
         "31.3780453",
         "1"
        ],
        [
         "39",
         "m601",
         "Capomulin",
         "Male",
         "22",
         "17",
         "45",
         "28.43096411",
         "1"
        ],
        [
         "40",
         "g791",
         "Ramicane",
         "Male",
         "11",
         "16",
         "0",
         "45.0",
         "0"
        ],
        [
         "41",
         "g791",
         "Ramicane",
         "Male",
         "11",
         "16",
         "5",
         "45.85153062",
         "0"
        ],
        [
         "42",
         "g791",
         "Ramicane",
         "Male",
         "11",
         "16",
         "10",
         "40.17055848",
         "0"
        ],
        [
         "43",
         "g791",
         "Ramicane",
         "Male",
         "11",
         "16",
         "15",
         "40.67812852",
         "0"
        ],
        [
         "44",
         "g791",
         "Ramicane",
         "Male",
         "11",
         "16",
         "20",
         "41.211897",
         "0"
        ],
        [
         "45",
         "g791",
         "Ramicane",
         "Male",
         "11",
         "16",
         "25",
         "35.56939935",
         "1"
        ],
        [
         "46",
         "g791",
         "Ramicane",
         "Male",
         "11",
         "16",
         "30",
         "34.95258284",
         "1"
        ],
        [
         "47",
         "g791",
         "Ramicane",
         "Male",
         "11",
         "16",
         "35",
         "30.96039194",
         "1"
        ],
        [
         "48",
         "g791",
         "Ramicane",
         "Male",
         "11",
         "16",
         "40",
         "31.36940573",
         "1"
        ],
        [
         "49",
         "g791",
         "Ramicane",
         "Male",
         "11",
         "16",
         "45",
         "29.12847181",
         "1"
        ]
       ],
       "shape": {
        "columns": 8,
        "rows": 1880
       }
      },
      "text/html": [
       "<div>\n",
       "<style scoped>\n",
       "    .dataframe tbody tr th:only-of-type {\n",
       "        vertical-align: middle;\n",
       "    }\n",
       "\n",
       "    .dataframe tbody tr th {\n",
       "        vertical-align: top;\n",
       "    }\n",
       "\n",
       "    .dataframe thead th {\n",
       "        text-align: right;\n",
       "    }\n",
       "</style>\n",
       "<table border=\"1\" class=\"dataframe\">\n",
       "  <thead>\n",
       "    <tr style=\"text-align: right;\">\n",
       "      <th></th>\n",
       "      <th>Mouse ID</th>\n",
       "      <th>Drug Regimen</th>\n",
       "      <th>Sex</th>\n",
       "      <th>Age_months</th>\n",
       "      <th>Weight (g)</th>\n",
       "      <th>Timepoint</th>\n",
       "      <th>Tumor Volume (mm3)</th>\n",
       "      <th>Metastatic Sites</th>\n",
       "    </tr>\n",
       "  </thead>\n",
       "  <tbody>\n",
       "    <tr>\n",
       "      <th>0</th>\n",
       "      <td>k403</td>\n",
       "      <td>Ramicane</td>\n",
       "      <td>Male</td>\n",
       "      <td>21</td>\n",
       "      <td>16</td>\n",
       "      <td>0</td>\n",
       "      <td>45.000000</td>\n",
       "      <td>0</td>\n",
       "    </tr>\n",
       "    <tr>\n",
       "      <th>1</th>\n",
       "      <td>k403</td>\n",
       "      <td>Ramicane</td>\n",
       "      <td>Male</td>\n",
       "      <td>21</td>\n",
       "      <td>16</td>\n",
       "      <td>5</td>\n",
       "      <td>38.825898</td>\n",
       "      <td>0</td>\n",
       "    </tr>\n",
       "    <tr>\n",
       "      <th>2</th>\n",
       "      <td>k403</td>\n",
       "      <td>Ramicane</td>\n",
       "      <td>Male</td>\n",
       "      <td>21</td>\n",
       "      <td>16</td>\n",
       "      <td>10</td>\n",
       "      <td>35.014271</td>\n",
       "      <td>1</td>\n",
       "    </tr>\n",
       "    <tr>\n",
       "      <th>3</th>\n",
       "      <td>k403</td>\n",
       "      <td>Ramicane</td>\n",
       "      <td>Male</td>\n",
       "      <td>21</td>\n",
       "      <td>16</td>\n",
       "      <td>15</td>\n",
       "      <td>34.223992</td>\n",
       "      <td>1</td>\n",
       "    </tr>\n",
       "    <tr>\n",
       "      <th>4</th>\n",
       "      <td>k403</td>\n",
       "      <td>Ramicane</td>\n",
       "      <td>Male</td>\n",
       "      <td>21</td>\n",
       "      <td>16</td>\n",
       "      <td>20</td>\n",
       "      <td>32.997729</td>\n",
       "      <td>1</td>\n",
       "    </tr>\n",
       "    <tr>\n",
       "      <th>...</th>\n",
       "      <td>...</td>\n",
       "      <td>...</td>\n",
       "      <td>...</td>\n",
       "      <td>...</td>\n",
       "      <td>...</td>\n",
       "      <td>...</td>\n",
       "      <td>...</td>\n",
       "      <td>...</td>\n",
       "    </tr>\n",
       "    <tr>\n",
       "      <th>1888</th>\n",
       "      <td>z969</td>\n",
       "      <td>Naftisol</td>\n",
       "      <td>Male</td>\n",
       "      <td>9</td>\n",
       "      <td>30</td>\n",
       "      <td>25</td>\n",
       "      <td>63.145652</td>\n",
       "      <td>2</td>\n",
       "    </tr>\n",
       "    <tr>\n",
       "      <th>1889</th>\n",
       "      <td>z969</td>\n",
       "      <td>Naftisol</td>\n",
       "      <td>Male</td>\n",
       "      <td>9</td>\n",
       "      <td>30</td>\n",
       "      <td>30</td>\n",
       "      <td>65.841013</td>\n",
       "      <td>3</td>\n",
       "    </tr>\n",
       "    <tr>\n",
       "      <th>1890</th>\n",
       "      <td>z969</td>\n",
       "      <td>Naftisol</td>\n",
       "      <td>Male</td>\n",
       "      <td>9</td>\n",
       "      <td>30</td>\n",
       "      <td>35</td>\n",
       "      <td>69.176246</td>\n",
       "      <td>4</td>\n",
       "    </tr>\n",
       "    <tr>\n",
       "      <th>1891</th>\n",
       "      <td>z969</td>\n",
       "      <td>Naftisol</td>\n",
       "      <td>Male</td>\n",
       "      <td>9</td>\n",
       "      <td>30</td>\n",
       "      <td>40</td>\n",
       "      <td>70.314904</td>\n",
       "      <td>4</td>\n",
       "    </tr>\n",
       "    <tr>\n",
       "      <th>1892</th>\n",
       "      <td>z969</td>\n",
       "      <td>Naftisol</td>\n",
       "      <td>Male</td>\n",
       "      <td>9</td>\n",
       "      <td>30</td>\n",
       "      <td>45</td>\n",
       "      <td>73.867845</td>\n",
       "      <td>4</td>\n",
       "    </tr>\n",
       "  </tbody>\n",
       "</table>\n",
       "<p>1880 rows × 8 columns</p>\n",
       "</div>"
      ],
      "text/plain": [
       "     Mouse ID Drug Regimen   Sex  Age_months  Weight (g)  Timepoint  \\\n",
       "0        k403     Ramicane  Male          21          16          0   \n",
       "1        k403     Ramicane  Male          21          16          5   \n",
       "2        k403     Ramicane  Male          21          16         10   \n",
       "3        k403     Ramicane  Male          21          16         15   \n",
       "4        k403     Ramicane  Male          21          16         20   \n",
       "...       ...          ...   ...         ...         ...        ...   \n",
       "1888     z969     Naftisol  Male           9          30         25   \n",
       "1889     z969     Naftisol  Male           9          30         30   \n",
       "1890     z969     Naftisol  Male           9          30         35   \n",
       "1891     z969     Naftisol  Male           9          30         40   \n",
       "1892     z969     Naftisol  Male           9          30         45   \n",
       "\n",
       "      Tumor Volume (mm3)  Metastatic Sites  \n",
       "0              45.000000                 0  \n",
       "1              38.825898                 0  \n",
       "2              35.014271                 1  \n",
       "3              34.223992                 1  \n",
       "4              32.997729                 1  \n",
       "...                  ...               ...  \n",
       "1888           63.145652                 2  \n",
       "1889           65.841013                 3  \n",
       "1890           69.176246                 4  \n",
       "1891           70.314904                 4  \n",
       "1892           73.867845                 4  \n",
       "\n",
       "[1880 rows x 8 columns]"
      ]
     },
     "execution_count": 26,
     "metadata": {},
     "output_type": "execute_result"
    }
   ],
   "source": [
    "# Create a clean DataFrame by dropping the duplicate mouse by its ID.\n",
    "mouse_data_clean = mouse_data[~mouse_data[\"Mouse ID\"].isin(duplicate_mice)]\n",
    "mouse_data_clean"
   ]
  },
  {
   "cell_type": "code",
   "execution_count": 28,
   "metadata": {},
   "outputs": [
    {
     "data": {
      "text/plain": [
       "248"
      ]
     },
     "execution_count": 28,
     "metadata": {},
     "output_type": "execute_result"
    }
   ],
   "source": [
    "# Checking the number of mice in the clean DataFrame.\n",
    "mouse_data_clean[\"Mouse ID\"].nunique()\n"
   ]
  },
  {
   "cell_type": "markdown",
   "metadata": {},
   "source": [
    "## Summary Statistics"
   ]
  },
  {
   "cell_type": "code",
   "execution_count": 31,
   "metadata": {},
   "outputs": [
    {
     "data": {
      "application/vnd.microsoft.datawrangler.viewer.v0+json": {
       "columns": [
        {
         "name": "Drug Regimen",
         "rawType": "object",
         "type": "string"
        },
        {
         "name": "Mean Tumor Volume",
         "rawType": "float64",
         "type": "float"
        },
        {
         "name": "Median Tumor Volume",
         "rawType": "float64",
         "type": "float"
        },
        {
         "name": "Tumor Volume Variance",
         "rawType": "float64",
         "type": "float"
        },
        {
         "name": "Tumor Volume Std. Dev.",
         "rawType": "float64",
         "type": "float"
        },
        {
         "name": "Tumor Volume Std. Err",
         "rawType": "float64",
         "type": "float"
        }
       ],
       "conversionMethod": "pd.DataFrame",
       "ref": "80631e34-4e19-4ed7-8cf6-96be45047eae",
       "rows": [
        [
         "Capomulin",
         "40.675741141",
         "41.557808879999996",
         "24.947764120254785",
         "4.994773680584014",
         "0.3293456234008305"
        ],
        [
         "Ceftamin",
         "52.59117180960674",
         "51.77615728",
         "39.29017727327859",
         "6.268187718414198",
         "0.4698205327526109"
        ],
        [
         "Infubinol",
         "52.88479510859551",
         "51.82058438",
         "43.1286841288361",
         "6.567243267066943",
         "0.4922356938011385"
        ],
        [
         "Ketapril",
         "55.23563764047872",
         "53.698742644999996",
         "68.553577112446",
         "8.279708757706759",
         "0.6038598237739697"
        ],
        [
         "Naftisol",
         "54.331564658333335",
         "52.509284609999995",
         "66.17347898736506",
         "8.134708291473338",
         "0.5964657512424234"
        ],
        [
         "Placebo",
         "54.03358078635359",
         "52.28893409",
         "61.168082936697",
         "7.821002681031186",
         "0.5813305510593874"
        ],
        [
         "Propriva",
         "52.32092986",
         "50.446266345",
         "43.852013013020404",
         "6.622085246583617",
         "0.544332054194047"
        ],
        [
         "Ramicane",
         "40.21674506671052",
         "40.67323554",
         "23.486703952095297",
         "4.8463082807530204",
         "0.3209546065084819"
        ],
        [
         "Stelasyn",
         "54.23314911988951",
         "52.43173664",
         "59.450561673366",
         "7.710419033578266",
         "0.5731109332771458"
        ],
        [
         "Zoniferol",
         "53.23650655159341",
         "51.818479325",
         "48.5333553893861",
         "6.966588504381905",
         "0.516397896833217"
        ]
       ],
       "shape": {
        "columns": 5,
        "rows": 10
       }
      },
      "text/html": [
       "<div>\n",
       "<style scoped>\n",
       "    .dataframe tbody tr th:only-of-type {\n",
       "        vertical-align: middle;\n",
       "    }\n",
       "\n",
       "    .dataframe tbody tr th {\n",
       "        vertical-align: top;\n",
       "    }\n",
       "\n",
       "    .dataframe thead th {\n",
       "        text-align: right;\n",
       "    }\n",
       "</style>\n",
       "<table border=\"1\" class=\"dataframe\">\n",
       "  <thead>\n",
       "    <tr style=\"text-align: right;\">\n",
       "      <th></th>\n",
       "      <th>Mean Tumor Volume</th>\n",
       "      <th>Median Tumor Volume</th>\n",
       "      <th>Tumor Volume Variance</th>\n",
       "      <th>Tumor Volume Std. Dev.</th>\n",
       "      <th>Tumor Volume Std. Err</th>\n",
       "    </tr>\n",
       "    <tr>\n",
       "      <th>Drug Regimen</th>\n",
       "      <th></th>\n",
       "      <th></th>\n",
       "      <th></th>\n",
       "      <th></th>\n",
       "      <th></th>\n",
       "    </tr>\n",
       "  </thead>\n",
       "  <tbody>\n",
       "    <tr>\n",
       "      <th>Capomulin</th>\n",
       "      <td>40.675741</td>\n",
       "      <td>41.557809</td>\n",
       "      <td>24.947764</td>\n",
       "      <td>4.994774</td>\n",
       "      <td>0.329346</td>\n",
       "    </tr>\n",
       "    <tr>\n",
       "      <th>Ceftamin</th>\n",
       "      <td>52.591172</td>\n",
       "      <td>51.776157</td>\n",
       "      <td>39.290177</td>\n",
       "      <td>6.268188</td>\n",
       "      <td>0.469821</td>\n",
       "    </tr>\n",
       "    <tr>\n",
       "      <th>Infubinol</th>\n",
       "      <td>52.884795</td>\n",
       "      <td>51.820584</td>\n",
       "      <td>43.128684</td>\n",
       "      <td>6.567243</td>\n",
       "      <td>0.492236</td>\n",
       "    </tr>\n",
       "    <tr>\n",
       "      <th>Ketapril</th>\n",
       "      <td>55.235638</td>\n",
       "      <td>53.698743</td>\n",
       "      <td>68.553577</td>\n",
       "      <td>8.279709</td>\n",
       "      <td>0.603860</td>\n",
       "    </tr>\n",
       "    <tr>\n",
       "      <th>Naftisol</th>\n",
       "      <td>54.331565</td>\n",
       "      <td>52.509285</td>\n",
       "      <td>66.173479</td>\n",
       "      <td>8.134708</td>\n",
       "      <td>0.596466</td>\n",
       "    </tr>\n",
       "    <tr>\n",
       "      <th>Placebo</th>\n",
       "      <td>54.033581</td>\n",
       "      <td>52.288934</td>\n",
       "      <td>61.168083</td>\n",
       "      <td>7.821003</td>\n",
       "      <td>0.581331</td>\n",
       "    </tr>\n",
       "    <tr>\n",
       "      <th>Propriva</th>\n",
       "      <td>52.320930</td>\n",
       "      <td>50.446266</td>\n",
       "      <td>43.852013</td>\n",
       "      <td>6.622085</td>\n",
       "      <td>0.544332</td>\n",
       "    </tr>\n",
       "    <tr>\n",
       "      <th>Ramicane</th>\n",
       "      <td>40.216745</td>\n",
       "      <td>40.673236</td>\n",
       "      <td>23.486704</td>\n",
       "      <td>4.846308</td>\n",
       "      <td>0.320955</td>\n",
       "    </tr>\n",
       "    <tr>\n",
       "      <th>Stelasyn</th>\n",
       "      <td>54.233149</td>\n",
       "      <td>52.431737</td>\n",
       "      <td>59.450562</td>\n",
       "      <td>7.710419</td>\n",
       "      <td>0.573111</td>\n",
       "    </tr>\n",
       "    <tr>\n",
       "      <th>Zoniferol</th>\n",
       "      <td>53.236507</td>\n",
       "      <td>51.818479</td>\n",
       "      <td>48.533355</td>\n",
       "      <td>6.966589</td>\n",
       "      <td>0.516398</td>\n",
       "    </tr>\n",
       "  </tbody>\n",
       "</table>\n",
       "</div>"
      ],
      "text/plain": [
       "              Mean Tumor Volume  Median Tumor Volume  Tumor Volume Variance  \\\n",
       "Drug Regimen                                                                  \n",
       "Capomulin             40.675741            41.557809              24.947764   \n",
       "Ceftamin              52.591172            51.776157              39.290177   \n",
       "Infubinol             52.884795            51.820584              43.128684   \n",
       "Ketapril              55.235638            53.698743              68.553577   \n",
       "Naftisol              54.331565            52.509285              66.173479   \n",
       "Placebo               54.033581            52.288934              61.168083   \n",
       "Propriva              52.320930            50.446266              43.852013   \n",
       "Ramicane              40.216745            40.673236              23.486704   \n",
       "Stelasyn              54.233149            52.431737              59.450562   \n",
       "Zoniferol             53.236507            51.818479              48.533355   \n",
       "\n",
       "              Tumor Volume Std. Dev.  Tumor Volume Std. Err  \n",
       "Drug Regimen                                                 \n",
       "Capomulin                   4.994774               0.329346  \n",
       "Ceftamin                    6.268188               0.469821  \n",
       "Infubinol                   6.567243               0.492236  \n",
       "Ketapril                    8.279709               0.603860  \n",
       "Naftisol                    8.134708               0.596466  \n",
       "Placebo                     7.821003               0.581331  \n",
       "Propriva                    6.622085               0.544332  \n",
       "Ramicane                    4.846308               0.320955  \n",
       "Stelasyn                    7.710419               0.573111  \n",
       "Zoniferol                   6.966589               0.516398  "
      ]
     },
     "execution_count": 31,
     "metadata": {},
     "output_type": "execute_result"
    }
   ],
   "source": [
    "# Generate a summary statistics table of mean, median, variance, standard deviation, and SEM of the tumor volume for each regimen\n",
    "\n",
    "# Use groupby and summary statistical methods to calculate the following properties of each drug regimen:\n",
    "# mean, median, variance, standard deviation, and SEM of the tumor volume.\n",
    "# Assemble the resulting series into a single summary DataFrame.\n",
    "\n",
    "mouse_summary = mouse_data_clean.groupby('Drug Regimen')['Tumor Volume (mm3)'].agg(mean='mean', median='median', variance='var', std_dev='std', sem='sem')\n",
    "mouse_summary.rename(columns={'mean': 'Mean Tumor Volume','median': 'Median Tumor Volume','variance': 'Tumor Volume Variance','std_dev': 'Tumor Volume Std. Dev.','sem': 'Tumor Volume Std. Err'}, inplace=True)\n",
    "mouse_summary"
   ]
  },
  {
   "cell_type": "code",
   "execution_count": 33,
   "metadata": {},
   "outputs": [
    {
     "data": {
      "application/vnd.microsoft.datawrangler.viewer.v0+json": {
       "columns": [
        {
         "name": "Drug Regimen",
         "rawType": "object",
         "type": "string"
        },
        {
         "name": "Mean Tumor Volume",
         "rawType": "float64",
         "type": "float"
        },
        {
         "name": "Median Tumor Volume",
         "rawType": "float64",
         "type": "float"
        },
        {
         "name": "Tumor Volume Variance",
         "rawType": "float64",
         "type": "float"
        },
        {
         "name": "Tumor Volume Std. Dev.",
         "rawType": "float64",
         "type": "float"
        },
        {
         "name": "Tumor Volume Std. Err",
         "rawType": "float64",
         "type": "float"
        }
       ],
       "conversionMethod": "pd.DataFrame",
       "ref": "383a7aa7-6a71-4649-abdc-aca635079aac",
       "rows": [
        [
         "Capomulin",
         "40.675741141",
         "41.557808879999996",
         "24.947764120254785",
         "4.994773680584014",
         "0.3293456234008305"
        ],
        [
         "Ceftamin",
         "52.59117180960674",
         "51.77615728",
         "39.29017727327859",
         "6.268187718414198",
         "0.4698205327526109"
        ],
        [
         "Infubinol",
         "52.88479510859551",
         "51.82058438",
         "43.1286841288361",
         "6.567243267066943",
         "0.4922356938011385"
        ],
        [
         "Ketapril",
         "55.23563764047872",
         "53.698742644999996",
         "68.553577112446",
         "8.279708757706759",
         "0.6038598237739697"
        ],
        [
         "Naftisol",
         "54.331564658333335",
         "52.509284609999995",
         "66.17347898736506",
         "8.134708291473338",
         "0.5964657512424234"
        ],
        [
         "Placebo",
         "54.03358078635359",
         "52.28893409",
         "61.168082936697",
         "7.821002681031186",
         "0.5813305510593874"
        ],
        [
         "Propriva",
         "52.32092986",
         "50.446266345",
         "43.852013013020404",
         "6.622085246583617",
         "0.544332054194047"
        ],
        [
         "Ramicane",
         "40.21674506671052",
         "40.67323554",
         "23.486703952095297",
         "4.8463082807530204",
         "0.3209546065084819"
        ],
        [
         "Stelasyn",
         "54.23314911988951",
         "52.43173664",
         "59.450561673366",
         "7.710419033578266",
         "0.5731109332771458"
        ],
        [
         "Zoniferol",
         "53.23650655159341",
         "51.818479325",
         "48.5333553893861",
         "6.966588504381905",
         "0.516397896833217"
        ]
       ],
       "shape": {
        "columns": 5,
        "rows": 10
       }
      },
      "text/html": [
       "<div>\n",
       "<style scoped>\n",
       "    .dataframe tbody tr th:only-of-type {\n",
       "        vertical-align: middle;\n",
       "    }\n",
       "\n",
       "    .dataframe tbody tr th {\n",
       "        vertical-align: top;\n",
       "    }\n",
       "\n",
       "    .dataframe thead th {\n",
       "        text-align: right;\n",
       "    }\n",
       "</style>\n",
       "<table border=\"1\" class=\"dataframe\">\n",
       "  <thead>\n",
       "    <tr style=\"text-align: right;\">\n",
       "      <th></th>\n",
       "      <th>Mean Tumor Volume</th>\n",
       "      <th>Median Tumor Volume</th>\n",
       "      <th>Tumor Volume Variance</th>\n",
       "      <th>Tumor Volume Std. Dev.</th>\n",
       "      <th>Tumor Volume Std. Err</th>\n",
       "    </tr>\n",
       "    <tr>\n",
       "      <th>Drug Regimen</th>\n",
       "      <th></th>\n",
       "      <th></th>\n",
       "      <th></th>\n",
       "      <th></th>\n",
       "      <th></th>\n",
       "    </tr>\n",
       "  </thead>\n",
       "  <tbody>\n",
       "    <tr>\n",
       "      <th>Capomulin</th>\n",
       "      <td>40.675741</td>\n",
       "      <td>41.557809</td>\n",
       "      <td>24.947764</td>\n",
       "      <td>4.994774</td>\n",
       "      <td>0.329346</td>\n",
       "    </tr>\n",
       "    <tr>\n",
       "      <th>Ceftamin</th>\n",
       "      <td>52.591172</td>\n",
       "      <td>51.776157</td>\n",
       "      <td>39.290177</td>\n",
       "      <td>6.268188</td>\n",
       "      <td>0.469821</td>\n",
       "    </tr>\n",
       "    <tr>\n",
       "      <th>Infubinol</th>\n",
       "      <td>52.884795</td>\n",
       "      <td>51.820584</td>\n",
       "      <td>43.128684</td>\n",
       "      <td>6.567243</td>\n",
       "      <td>0.492236</td>\n",
       "    </tr>\n",
       "    <tr>\n",
       "      <th>Ketapril</th>\n",
       "      <td>55.235638</td>\n",
       "      <td>53.698743</td>\n",
       "      <td>68.553577</td>\n",
       "      <td>8.279709</td>\n",
       "      <td>0.603860</td>\n",
       "    </tr>\n",
       "    <tr>\n",
       "      <th>Naftisol</th>\n",
       "      <td>54.331565</td>\n",
       "      <td>52.509285</td>\n",
       "      <td>66.173479</td>\n",
       "      <td>8.134708</td>\n",
       "      <td>0.596466</td>\n",
       "    </tr>\n",
       "    <tr>\n",
       "      <th>Placebo</th>\n",
       "      <td>54.033581</td>\n",
       "      <td>52.288934</td>\n",
       "      <td>61.168083</td>\n",
       "      <td>7.821003</td>\n",
       "      <td>0.581331</td>\n",
       "    </tr>\n",
       "    <tr>\n",
       "      <th>Propriva</th>\n",
       "      <td>52.320930</td>\n",
       "      <td>50.446266</td>\n",
       "      <td>43.852013</td>\n",
       "      <td>6.622085</td>\n",
       "      <td>0.544332</td>\n",
       "    </tr>\n",
       "    <tr>\n",
       "      <th>Ramicane</th>\n",
       "      <td>40.216745</td>\n",
       "      <td>40.673236</td>\n",
       "      <td>23.486704</td>\n",
       "      <td>4.846308</td>\n",
       "      <td>0.320955</td>\n",
       "    </tr>\n",
       "    <tr>\n",
       "      <th>Stelasyn</th>\n",
       "      <td>54.233149</td>\n",
       "      <td>52.431737</td>\n",
       "      <td>59.450562</td>\n",
       "      <td>7.710419</td>\n",
       "      <td>0.573111</td>\n",
       "    </tr>\n",
       "    <tr>\n",
       "      <th>Zoniferol</th>\n",
       "      <td>53.236507</td>\n",
       "      <td>51.818479</td>\n",
       "      <td>48.533355</td>\n",
       "      <td>6.966589</td>\n",
       "      <td>0.516398</td>\n",
       "    </tr>\n",
       "  </tbody>\n",
       "</table>\n",
       "</div>"
      ],
      "text/plain": [
       "              Mean Tumor Volume  Median Tumor Volume  Tumor Volume Variance  \\\n",
       "Drug Regimen                                                                  \n",
       "Capomulin             40.675741            41.557809              24.947764   \n",
       "Ceftamin              52.591172            51.776157              39.290177   \n",
       "Infubinol             52.884795            51.820584              43.128684   \n",
       "Ketapril              55.235638            53.698743              68.553577   \n",
       "Naftisol              54.331565            52.509285              66.173479   \n",
       "Placebo               54.033581            52.288934              61.168083   \n",
       "Propriva              52.320930            50.446266              43.852013   \n",
       "Ramicane              40.216745            40.673236              23.486704   \n",
       "Stelasyn              54.233149            52.431737              59.450562   \n",
       "Zoniferol             53.236507            51.818479              48.533355   \n",
       "\n",
       "              Tumor Volume Std. Dev.  Tumor Volume Std. Err  \n",
       "Drug Regimen                                                 \n",
       "Capomulin                   4.994774               0.329346  \n",
       "Ceftamin                    6.268188               0.469821  \n",
       "Infubinol                   6.567243               0.492236  \n",
       "Ketapril                    8.279709               0.603860  \n",
       "Naftisol                    8.134708               0.596466  \n",
       "Placebo                     7.821003               0.581331  \n",
       "Propriva                    6.622085               0.544332  \n",
       "Ramicane                    4.846308               0.320955  \n",
       "Stelasyn                    7.710419               0.573111  \n",
       "Zoniferol                   6.966589               0.516398  "
      ]
     },
     "execution_count": 33,
     "metadata": {},
     "output_type": "execute_result"
    }
   ],
   "source": [
    "# A more advanced method to generate a summary statistics table of mean, median, variance, standard deviation,\n",
    "# and SEM of the tumor volume for each regimen (only one method is required in the solution)\n",
    "\n",
    "# Using the aggregation method, produce the same summary statistics in a single line\n",
    "mouse_summary_agg = mouse_data_clean.groupby('Drug Regimen')['Tumor Volume (mm3)'].agg(['mean', 'median', 'var', 'std', 'sem'])\n",
    "mouse_summary_agg.rename(columns={\n",
    "    'mean': 'Mean Tumor Volume',\n",
    "    'median': 'Median Tumor Volume',\n",
    "    'var': 'Tumor Volume Variance',\n",
    "    'std': 'Tumor Volume Std. Dev.',\n",
    "    'sem': 'Tumor Volume Std. Err'\n",
    "    }, inplace=True)\n",
    "mouse_summary_agg"
   ]
  },
  {
   "cell_type": "markdown",
   "metadata": {},
   "source": [
    "## Bar and Pie Charts"
   ]
  },
  {
   "cell_type": "code",
   "execution_count": 53,
   "metadata": {},
   "outputs": [
    {
     "data": {
      "image/png": "[encoded data removed]",
      "text/plain": [
       "<Figure size 640x480 with 1 Axes>"
      ]
     },
     "metadata": {},
     "output_type": "display_data"
    }
   ],
   "source": [
    "# Generate a bar plot showing the total number of rows (Mouse ID/Timepoints) for each drug regimen using Pandas.\n",
    "mice_bar = mouse_data_clean['Drug Regimen'].value_counts()\n",
    "mice_bar.plot(kind='bar', color='blue')\n",
    "plt.xlabel('Drug Regimen')\n",
    "plt.ylabel('# of Observed Mouse Timepoints')\n",
    "plt.show()"
   ]
  },
  {
   "cell_type": "code",
   "execution_count": 54,
   "metadata": {},
   "outputs": [
    {
     "data": {
      "image/png": "[encoded data removed]",
      "text/plain": [
       "<Figure size 640x480 with 1 Axes>"
      ]
     },
     "metadata": {},
     "output_type": "display_data"
    }
   ],
   "source": [
    "# Generate a bar plot showing the total number of rows (Mouse ID/Timepoints) for each drug regimen using pyplot.\n",
    "mice_bar_pyplot = mouse_data_clean['Drug Regimen'].value_counts()\n",
    "plt.bar(mice_bar_pyplot.index, mice_bar_pyplot.values, color='blue')\n",
    "plt.xlabel('Drug Regimen')\n",
    "plt.ylabel('# of Observed Mouse Timepoints')\n",
    "plt.xticks(rotation=90)\n",
    "plt.show()\n"
   ]
  },
  {
   "cell_type": "code",
   "execution_count": 67,
   "metadata": {},
   "outputs": [
    {
     "data": {
      "text/plain": [
       "<Axes: ylabel='count'>"
      ]
     },
     "execution_count": 67,
     "metadata": {},
     "output_type": "execute_result"
    },
    {
     "data": {
      "image/png": "[encoded data removed]",
      "text/plain": [
       "<Figure size 640x480 with 1 Axes>"
      ]
     },
     "metadata": {},
     "output_type": "display_data"
    }
   ],
   "source": [
    "# Generate a pie chart, using Pandas, showing the distribution of unique female versus male mice used in the study\n",
    "mice_gender = mouse_data_clean.drop_duplicates(subset='Mouse ID')[['Mouse ID','Sex']]\n",
    "# Get the unique mice with their gender\n",
    "mice_gender_count = mice_gender['Sex'].value_counts()\n",
    "\n",
    "# Make the pie chart\n",
    "mice_gender_count.plot(kind='pie', autopct='%1.1f%%', startangle=0, colors=['blue', 'orange'])\n"
   ]
  },
  {
   "cell_type": "code",
   "execution_count": 69,
   "metadata": {},
   "outputs": [
    {
     "data": {
      "image/png": "[encoded data removed]",
      "text/plain": [
       "<Figure size 640x480 with 1 Axes>"
      ]
     },
     "metadata": {},
     "output_type": "display_data"
    }
   ],
   "source": [
    "# Generate a pie chart, using pyplot, showing the distribution of unique female versus male mice used in the study\n",
    "mice_gender = mouse_data_clean.drop_duplicates(subset='Mouse ID')[['Mouse ID','Sex']]\n",
    "# Get the unique mice with their gender\n",
    "mice_gender_count = mice_gender['Sex'].value_counts()\n",
    "\n",
    "# Make the pie chart\n",
    "plt.pie(mice_gender_count, labels=mice_gender_count.index, autopct='%1.1f%%', startangle=0, colors=['lightblue', 'orange'])\n",
    "plt.show()"
   ]
  },
  {
   "cell_type": "markdown",
   "metadata": {},
   "source": [
    "## Quartiles, Outliers and Boxplots"
   ]
  },
  {
   "cell_type": "code",
   "execution_count": null,
   "metadata": {},
   "outputs": [
    {
     "data": {
      "application/vnd.microsoft.datawrangler.viewer.v0+json": {
       "columns": [
        {
         "name": "index",
         "rawType": "int64",
         "type": "integer"
        },
        {
         "name": "Mouse ID",
         "rawType": "object",
         "type": "string"
        },
        {
         "name": "Drug Regimen",
         "rawType": "object",
         "type": "string"
        },
        {
         "name": "Tumor Volume (mm3)",
         "rawType": "float64",
         "type": "float"
        }
       ],
       "conversionMethod": "pd.DataFrame",
       "ref": "ac3aee1f-5824-43fc-93e9-14885bd5072f",
       "rows": [
        [
         "0",
         "a203",
         "Infubinol",
         "67.97341878"
        ],
        [
         "1",
         "a251",
         "Infubinol",
         "65.52574285"
        ],
        [
         "2",
         "a275",
         "Ceftamin",
         "62.99935619"
        ],
        [
         "3",
         "a411",
         "Ramicane",
         "38.4076183"
        ],
        [
         "4",
         "a444",
         "Ramicane",
         "43.0475426"
        ],
        [
         "5",
         "a520",
         "Ramicane",
         "38.81036633"
        ],
        [
         "6",
         "a577",
         "Infubinol",
         "57.03186187"
        ],
        [
         "7",
         "a644",
         "Ramicane",
         "32.97852192"
        ],
        [
         "8",
         "a685",
         "Infubinol",
         "66.08306589"
        ],
        [
         "9",
         "b128",
         "Capomulin",
         "38.98287774"
        ],
        [
         "10",
         "b447",
         "Ceftamin",
         "45.0"
        ],
        [
         "11",
         "b487",
         "Ceftamin",
         "56.05774909"
        ],
        [
         "12",
         "b742",
         "Capomulin",
         "38.93963263"
        ],
        [
         "13",
         "b759",
         "Ceftamin",
         "55.74282869"
        ],
        [
         "14",
         "c139",
         "Infubinol",
         "72.2267309"
        ],
        [
         "15",
         "c326",
         "Infubinol",
         "36.3213458"
        ],
        [
         "16",
         "c458",
         "Ramicane",
         "38.34200823"
        ],
        [
         "17",
         "c758",
         "Ramicane",
         "33.39765251"
        ],
        [
         "18",
         "c895",
         "Infubinol",
         "60.96971133"
        ],
        [
         "19",
         "d251",
         "Ramicane",
         "37.31123552"
        ],
        [
         "20",
         "e476",
         "Infubinol",
         "62.43540402"
        ],
        [
         "21",
         "e662",
         "Ramicane",
         "40.65900627"
        ],
        [
         "22",
         "f345",
         "Infubinol",
         "60.91876652"
        ],
        [
         "23",
         "f436",
         "Ceftamin",
         "48.72207785"
        ],
        [
         "24",
         "f966",
         "Capomulin",
         "30.48598484"
        ],
        [
         "25",
         "g288",
         "Capomulin",
         "37.07402422"
        ],
        [
         "26",
         "g316",
         "Capomulin",
         "40.1592203"
        ],
        [
         "27",
         "g791",
         "Ramicane",
         "29.12847181"
        ],
        [
         "28",
         "h531",
         "Ceftamin",
         "47.7846818"
        ],
        [
         "29",
         "i177",
         "Ramicane",
         "33.56240217"
        ],
        [
         "30",
         "i334",
         "Ramicane",
         "36.37451039"
        ],
        [
         "31",
         "i386",
         "Infubinol",
         "67.28962147"
        ],
        [
         "32",
         "i557",
         "Capomulin",
         "47.68596303"
        ],
        [
         "33",
         "i738",
         "Capomulin",
         "37.31184577"
        ],
        [
         "34",
         "j119",
         "Capomulin",
         "38.1251644"
        ],
        [
         "35",
         "j246",
         "Capomulin",
         "38.75326548"
        ],
        [
         "36",
         "j296",
         "Ceftamin",
         "61.84902336"
        ],
        [
         "37",
         "j913",
         "Ramicane",
         "31.56046955"
        ],
        [
         "38",
         "j989",
         "Ramicane",
         "36.13485243"
        ],
        [
         "39",
         "k210",
         "Ceftamin",
         "68.92318457"
        ],
        [
         "40",
         "k403",
         "Ramicane",
         "22.05012627"
        ],
        [
         "41",
         "k483",
         "Infubinol",
         "66.19691151"
        ],
        [
         "42",
         "k804",
         "Infubinol",
         "62.11727887"
        ],
        [
         "43",
         "l471",
         "Ceftamin",
         "67.74866174"
        ],
        [
         "44",
         "l490",
         "Ceftamin",
         "57.91838132"
        ],
        [
         "45",
         "l509",
         "Capomulin",
         "41.48300765"
        ],
        [
         "46",
         "l558",
         "Ceftamin",
         "46.78453491"
        ],
        [
         "47",
         "l661",
         "Ceftamin",
         "59.85195552"
        ],
        [
         "48",
         "l733",
         "Ceftamin",
         "64.29983003"
        ],
        [
         "49",
         "l897",
         "Capomulin",
         "38.84687569"
        ]
       ],
       "shape": {
        "columns": 3,
        "rows": 100
       }
      },
      "text/html": [
       "<div>\n",
       "<style scoped>\n",
       "    .dataframe tbody tr th:only-of-type {\n",
       "        vertical-align: middle;\n",
       "    }\n",
       "\n",
       "    .dataframe tbody tr th {\n",
       "        vertical-align: top;\n",
       "    }\n",
       "\n",
       "    .dataframe thead th {\n",
       "        text-align: right;\n",
       "    }\n",
       "</style>\n",
       "<table border=\"1\" class=\"dataframe\">\n",
       "  <thead>\n",
       "    <tr style=\"text-align: right;\">\n",
       "      <th></th>\n",
       "      <th>Mouse ID</th>\n",
       "      <th>Drug Regimen</th>\n",
       "      <th>Tumor Volume (mm3)</th>\n",
       "    </tr>\n",
       "  </thead>\n",
       "  <tbody>\n",
       "    <tr>\n",
       "      <th>0</th>\n",
       "      <td>a203</td>\n",
       "      <td>Infubinol</td>\n",
       "      <td>67.973419</td>\n",
       "    </tr>\n",
       "    <tr>\n",
       "      <th>1</th>\n",
       "      <td>a251</td>\n",
       "      <td>Infubinol</td>\n",
       "      <td>65.525743</td>\n",
       "    </tr>\n",
       "    <tr>\n",
       "      <th>2</th>\n",
       "      <td>a275</td>\n",
       "      <td>Ceftamin</td>\n",
       "      <td>62.999356</td>\n",
       "    </tr>\n",
       "    <tr>\n",
       "      <th>3</th>\n",
       "      <td>a411</td>\n",
       "      <td>Ramicane</td>\n",
       "      <td>38.407618</td>\n",
       "    </tr>\n",
       "    <tr>\n",
       "      <th>4</th>\n",
       "      <td>a444</td>\n",
       "      <td>Ramicane</td>\n",
       "      <td>43.047543</td>\n",
       "    </tr>\n",
       "    <tr>\n",
       "      <th>...</th>\n",
       "      <td>...</td>\n",
       "      <td>...</td>\n",
       "      <td>...</td>\n",
       "    </tr>\n",
       "    <tr>\n",
       "      <th>95</th>\n",
       "      <td>y769</td>\n",
       "      <td>Ceftamin</td>\n",
       "      <td>68.594745</td>\n",
       "    </tr>\n",
       "    <tr>\n",
       "      <th>96</th>\n",
       "      <td>y793</td>\n",
       "      <td>Capomulin</td>\n",
       "      <td>31.896238</td>\n",
       "    </tr>\n",
       "    <tr>\n",
       "      <th>97</th>\n",
       "      <td>y865</td>\n",
       "      <td>Ceftamin</td>\n",
       "      <td>64.729837</td>\n",
       "    </tr>\n",
       "    <tr>\n",
       "      <th>98</th>\n",
       "      <td>z578</td>\n",
       "      <td>Ramicane</td>\n",
       "      <td>30.638696</td>\n",
       "    </tr>\n",
       "    <tr>\n",
       "      <th>99</th>\n",
       "      <td>z581</td>\n",
       "      <td>Infubinol</td>\n",
       "      <td>62.754451</td>\n",
       "    </tr>\n",
       "  </tbody>\n",
       "</table>\n",
       "<p>100 rows × 3 columns</p>\n",
       "</div>"
      ],
      "text/plain": [
       "   Mouse ID Drug Regimen  Tumor Volume (mm3)\n",
       "0      a203    Infubinol           67.973419\n",
       "1      a251    Infubinol           65.525743\n",
       "2      a275     Ceftamin           62.999356\n",
       "3      a411     Ramicane           38.407618\n",
       "4      a444     Ramicane           43.047543\n",
       "..      ...          ...                 ...\n",
       "95     y769     Ceftamin           68.594745\n",
       "96     y793    Capomulin           31.896238\n",
       "97     y865     Ceftamin           64.729837\n",
       "98     z578     Ramicane           30.638696\n",
       "99     z581    Infubinol           62.754451\n",
       "\n",
       "[100 rows x 3 columns]"
      ]
     },
     "execution_count": 72,
     "metadata": {},
     "output_type": "execute_result"
    }
   ],
   "source": [
    "# Calculate the final tumor volume of each mouse across four of the treatment regimens:\n",
    "# Capomulin, Ramicane, Infubinol, and Ceftamin\n",
    "treatment_regimens = ['Capomulin', 'Ramicane', 'Infubinol', 'Ceftamin']\n",
    "final_tumor_volume = mouse_data_clean[mouse_data_clean['Drug Regimen'].isin(treatment_regimens)]\n",
    "\n",
    "# Start by getting the last (greatest) timepoint for each mouse\n",
    "last_timepoint = final_tumor_volume.groupby('Mouse ID')['Timepoint'].max()\n",
    "last_timepoint = last_timepoint.reset_index()\n",
    "\n",
    "# Merge this group df with the original DataFrame to get the tumor volume at the last timepoint\n",
    "final_tumor_volume = pd.merge(last_timepoint, mouse_data_clean, on=['Mouse ID', 'Timepoint'], how='left')\n",
    "final_tumor_volume = final_tumor_volume[['Mouse ID', 'Drug Regimen', 'Tumor Volume (mm3)']]\n",
    "final_tumor_volume"
   ]
  },
  {
   "cell_type": "code",
   "execution_count": 76,
   "metadata": {},
   "outputs": [
    {
     "name": "stdout",
     "output_type": "stream",
     "text": [
      "Capomulin's potential outliers: Series([], Name: Tumor Volume (mm3), dtype: float64)\n",
      "Ramicane's potential outliers: Series([], Name: Tumor Volume (mm3), dtype: float64)\n",
      "Infubinol's potential outliers: 15    36.321346\n",
      "Name: Tumor Volume (mm3), dtype: float64\n",
      "Ceftamin's potential outliers: Series([], Name: Tumor Volume (mm3), dtype: float64)\n"
     ]
    }
   ],
   "source": [
    "# Put treatments into a list for for loop (and later for plot labels)\n",
    "treatment_regimens = ['Capomulin', 'Ramicane', 'Infubinol', 'Ceftamin']\n",
    "\n",
    "# Create empty list to fill with tumor vol data (for plotting)\n",
    "tumor_vol = []\n",
    "\n",
    "for drug in treatment_regimens:\n",
    "    # Append tumor volume data for each drug regimen\n",
    "    drug_data = final_tumor_volume[final_tumor_volume['Drug Regimen'] == drug]['Tumor Volume (mm3)']\n",
    "    tumor_vol.append(drug_data)\n",
    "    \n",
    "    # Calculate the quartiles and IQR for each drug regimen\n",
    "    quartiles = drug_data.quantile([0.25, 0.5, 0.75])\n",
    "    lowerq = quartiles[0.25]\n",
    "    upperq = quartiles[0.75]\n",
    "    IQR = upperq - lowerq\n",
    "\n",
    "    # Determine outliers using upper and lower bounds\n",
    "    lower_bound = lowerq - (1.5 * IQR)\n",
    "    upper_bound = upperq + (1.5 * IQR)\n",
    "    outliers = drug_data[(drug_data < lower_bound) | (drug_data > upper_bound)]\n",
    "    \n",
    "    print(f\"{drug}'s potential outliers: {outliers}\")"
   ]
  },
  {
   "cell_type": "code",
   "execution_count": 81,
   "metadata": {},
   "outputs": [
    {
     "name": "stderr",
     "output_type": "stream",
     "text": [
      "C:\\Users\\Owner\\AppData\\Local\\Temp\\ipykernel_14924\\3839558366.py:2: MatplotlibDeprecationWarning: The 'labels' parameter of boxplot() has been renamed 'tick_labels' since Matplotlib 3.9; support for the old name will be dropped in 3.11.\n",
      "  plt.boxplot(tumor_vol, labels=treatment_regimens, flierprops={'markerfacecolor': 'red', 'markersize': 10})\n"
     ]
    },
    {
     "data": {
      "image/png": "[encoded data removed]",
      "text/plain": [
       "<Figure size 640x480 with 1 Axes>"
      ]
     },
     "metadata": {},
     "output_type": "display_data"
    }
   ],
   "source": [
    "# Generate a box plot that shows the distribution of the tumor volume for each treatment group.\n",
    "plt.boxplot(tumor_vol, labels=treatment_regimens, flierprops={'markerfacecolor': 'red', 'markersize': 10})\n",
    "plt.ylabel('Final Tumor Volume (mm3)')\n",
    "plt.show()\n"
   ]
  },
  {
   "cell_type": "markdown",
   "metadata": {},
   "source": [
    "## Line and Scatter Plots"
   ]
  },
  {
   "cell_type": "code",
   "execution_count": 86,
   "metadata": {},
   "outputs": [
    {
     "data": {
      "text/plain": [
       "'s185'"
      ]
     },
     "execution_count": 86,
     "metadata": {},
     "output_type": "execute_result"
    }
   ],
   "source": [
    "# Select a mouse that was treated with Capomulin\n",
    "capomulin_mice = mouse_data_clean[mouse_data_clean['Drug Regimen'] == 'Capomulin']\n",
    "capomulin_mice = capomulin_mice.reset_index(drop=True)\n",
    "capomulin_mice = capomulin_mice.loc[0, 'Mouse ID']\n",
    "capomulin_mice"
   ]
  },
  {
   "cell_type": "code",
   "execution_count": 88,
   "metadata": {},
   "outputs": [
    {
     "data": {
      "image/png": "[encoded data removed]",
      "text/plain": [
       "<Figure size 640x480 with 1 Axes>"
      ]
     },
     "metadata": {},
     "output_type": "display_data"
    }
   ],
   "source": [
    "# Generate a line plot of tumor volume vs. time point for a single mouse treated with Capomulin\n",
    "mouse_id = 's185'\n",
    "mouse_data_single = mouse_data_clean[mouse_data_clean['Mouse ID'] == mouse_id]\n",
    "plt.plot(mouse_data_single['Timepoint'], mouse_data_single['Tumor Volume (mm3)'], color='blue')\n",
    "plt.xlabel('Timepoint (days)')\n",
    "plt.ylabel('Tumor Volume (mm3)')\n",
    "plt.title(f'Capomulin Treatment of Mouse {mouse_id}')\n",
    "plt.show()\n"
   ]
  },
  {
   "cell_type": "code",
   "execution_count": 90,
   "metadata": {},
   "outputs": [
    {
     "data": {
      "image/png": "[encoded data removed]",
      "text/plain": [
       "<Figure size 640x480 with 1 Axes>"
      ]
     },
     "metadata": {},
     "output_type": "display_data"
    }
   ],
   "source": [
    "# Generate a scatter plot of mouse weight vs. the average observed tumor volume for the entire Capomulin regimen\n",
    "capomulin_mice = mouse_data_clean[mouse_data_clean['Drug Regimen'] == 'Capomulin']\n",
    "capomulin_mice_avg = capomulin_mice.groupby('Mouse ID').agg({\n",
    "\t'Weight (g)': 'mean',\n",
    "\t'Tumor Volume (mm3)': 'mean'\n",
    "})\n",
    "\n",
    "plt.scatter(capomulin_mice_avg['Weight (g)'], capomulin_mice_avg['Tumor Volume (mm3)'], color='blue')\n",
    "plt.xlabel('Weight (g)')\n",
    "plt.ylabel('Average Tumor Volume (mm3)')\n",
    "plt.show()\n"
   ]
  },
  {
   "cell_type": "markdown",
   "metadata": {},
   "source": [
    "## Correlation and Regression"
   ]
  },
  {
   "cell_type": "code",
   "execution_count": 91,
   "metadata": {},
   "outputs": [
    {
     "name": "stdout",
     "output_type": "stream",
     "text": [
      "The correlation between mouse weight and the average tumor volume is 0.84\n"
     ]
    },
    {
     "data": {
      "image/png": "[encoded data removed]",
      "text/plain": [
       "<Figure size 640x480 with 1 Axes>"
      ]
     },
     "metadata": {},
     "output_type": "display_data"
    }
   ],
   "source": [
    "# Calculate the correlation coefficient and a linear regression model\n",
    "# for mouse weight and average observed tumor volume for the entire Capomulin regimen\n",
    "correlation = st.pearsonr(capomulin_mice_avg['Weight (g)'], capomulin_mice_avg['Tumor Volume (mm3)'])\n",
    "print(f\"The correlation between mouse weight and the average tumor volume is {round(correlation[0],2)}\")\n",
    "\n",
    "(slope, intercept, rvalue, pvalue, stderr) = st.linregress(capomulin_mice_avg['Weight (g)'], capomulin_mice_avg['Tumor Volume (mm3)'])\n",
    "regress_values = capomulin_mice_avg['Weight (g)'] * slope + intercept\n",
    "line_eq = \"y = \" + str(round(slope,2)) + \"x + \" + str(round(intercept,2))\n",
    "\n",
    "plt.scatter(capomulin_mice_avg['Weight (g)'], capomulin_mice_avg['Tumor Volume (mm3)'], color='blue')\n",
    "plt.plot(capomulin_mice_avg['Weight (g)'], regress_values, color='red')\n",
    "plt.annotate(line_eq,(20,36),fontsize=15,color=\"red\")\n",
    "plt.xlabel('Weight (g)')\n",
    "plt.ylabel('Average Tumor Volume (mm3)')\n",
    "plt.show()\n"
   ]
  },
  {
   "cell_type": "code",
   "execution_count": null,
   "metadata": {},
   "outputs": [],
   "source": []
  }
 ],
 "metadata": {
  "anaconda-cloud": {},
  "kernelspec": {
   "display_name": "dev",
   "language": "python",
   "name": "python3"
  },
  "language_info": {
   "codemirror_mode": {
    "name": "ipython",
    "version": 3
   },
   "file_extension": ".py",
   "mimetype": "text/x-python",
   "name": "python",
   "nbconvert_exporter": "python",
   "pygments_lexer": "ipython3",
   "version": "3.10.16"
  }
 },
 "nbformat": 4,
 "nbformat_minor": 4
}
